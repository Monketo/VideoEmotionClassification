{
 "cells": [
  {
   "cell_type": "code",
   "execution_count": 1,
   "metadata": {},
   "outputs": [],
   "source": [
    "DPATH=\"/home/ubuntu/CourseAI/datasets/facs/\""
   ]
  },
  {
   "cell_type": "code",
   "execution_count": 10,
   "metadata": {},
   "outputs": [],
   "source": [
    "import numpy as np\n",
    "import os\n",
    "import glob"
   ]
  },
  {
   "cell_type": "code",
   "execution_count": 8,
   "metadata": {},
   "outputs": [
    {
     "data": {
      "text/plain": [
       "['S046_002_00000001_landmarks.txt',\n",
       " 'S046_002_00000005_landmarks.txt',\n",
       " 'S046_002_00000006_landmarks.txt',\n",
       " 'S046_002_00000004_landmarks.txt',\n",
       " 'S046_002_00000003_landmarks.txt',\n",
       " 'S046_002_00000002_landmarks.txt']"
      ]
     },
     "execution_count": 8,
     "metadata": {},
     "output_type": "execute_result"
    }
   ],
   "source": [
    "os.listdir(DPATH+'landmarks/'+'S046'+'/002')"
   ]
  },
  {
   "cell_type": "code",
   "execution_count": 19,
   "metadata": {},
   "outputs": [],
   "source": [
    "landmarks_sum = np.zeros((68,2))\n",
    "landmarks=glob.glob(DPATH+'landmarks/*/*/*.txt')\n",
    "\n",
    "for landmark in landmarks:\n",
    "    landmarks_sum+=np.loadtxt(landmark)\n",
    "    \n",
    "landmarks_mean = landmarks_sum/(len(landmarks)) \n",
    "    \n",
    "    "
   ]
  },
  {
   "cell_type": "code",
   "execution_count": 22,
   "metadata": {},
   "outputs": [],
   "source": [
    "np.save(\"/home/ubuntu/CourseAI/datasets/facs/landmarks/landmarks_mean.npy\",landmarks_mean)"
   ]
  },
  {
   "cell_type": "code",
   "execution_count": null,
   "metadata": {},
   "outputs": [],
   "source": []
  }
 ],
 "metadata": {
  "kernelspec": {
   "display_name": "Python 3",
   "language": "python",
   "name": "python3"
  },
  "language_info": {
   "codemirror_mode": {
    "name": "ipython",
    "version": 3
   },
   "file_extension": ".py",
   "mimetype": "text/x-python",
   "name": "python",
   "nbconvert_exporter": "python",
   "pygments_lexer": "ipython3",
   "version": "3.5.2"
  }
 },
 "nbformat": 4,
 "nbformat_minor": 2
}
